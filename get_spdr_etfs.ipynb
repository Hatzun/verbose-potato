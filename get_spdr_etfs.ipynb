{
 "cells": [
  {
   "cell_type": "code",
   "execution_count": 1,
   "metadata": {},
   "outputs": [],
   "source": [
    "import requests, os, bs4, lxml\n",
    "import pandas as pd\n",
    "from string import Template"
   ]
  },
  {
   "cell_type": "code",
   "execution_count": 9,
   "metadata": {},
   "outputs": [],
   "source": [
    "spdr = pd.read_excel('spdr_etfPerformance.xls', sheet_name='etfPerformance')"
   ]
  },
  {
   "cell_type": "code",
   "execution_count": 13,
   "metadata": {},
   "outputs": [
    {
     "data": {
      "text/html": [
       "<div>\n",
       "<style scoped>\n",
       "    .dataframe tbody tr th:only-of-type {\n",
       "        vertical-align: middle;\n",
       "    }\n",
       "\n",
       "    .dataframe tbody tr th {\n",
       "        vertical-align: top;\n",
       "    }\n",
       "\n",
       "    .dataframe thead th {\n",
       "        text-align: right;\n",
       "    }\n",
       "</style>\n",
       "<table border=\"1\" class=\"dataframe\">\n",
       "  <thead>\n",
       "    <tr style=\"text-align: right;\">\n",
       "      <th></th>\n",
       "      <th>NAME</th>\n",
       "      <th>TICKER</th>\n",
       "      <th>GROSS EXPENSE RATIO</th>\n",
       "      <th>PERFORMANCE</th>\n",
       "      <th>CUMULATIVE QTD</th>\n",
       "      <th>CUMULATIVE YTD</th>\n",
       "      <th>ANNUALIZED 1YR</th>\n",
       "      <th>ANNUALIZED 3YR</th>\n",
       "      <th>ANNUALIZED 5YR</th>\n",
       "      <th>ANNUALIZED 10YR</th>\n",
       "      <th>SINCE INCEPTION</th>\n",
       "      <th>INCEPTION DATE</th>\n",
       "      <th>PERF AS OF</th>\n",
       "    </tr>\n",
       "  </thead>\n",
       "  <tbody>\n",
       "    <tr>\n",
       "      <th>0</th>\n",
       "      <td>Low Cost Core</td>\n",
       "      <td>NaN</td>\n",
       "      <td>NaN</td>\n",
       "      <td>NaN</td>\n",
       "      <td>NaN</td>\n",
       "      <td>NaN</td>\n",
       "      <td>NaN</td>\n",
       "      <td>NaN</td>\n",
       "      <td>NaN</td>\n",
       "      <td>NaN</td>\n",
       "      <td>NaN</td>\n",
       "      <td>NaN</td>\n",
       "      <td>NaN</td>\n",
       "    </tr>\n",
       "    <tr>\n",
       "      <th>1</th>\n",
       "      <td>SPDR Portfolio Aggregate Bond ETF</td>\n",
       "      <td>SPAB</td>\n",
       "      <td>0.04%</td>\n",
       "      <td>NAV</td>\n",
       "      <td>-1.52%</td>\n",
       "      <td>-1.52%</td>\n",
       "      <td>1.13%</td>\n",
       "      <td>1.12%</td>\n",
       "      <td>1.76%</td>\n",
       "      <td>3.60%</td>\n",
       "      <td>4.04%</td>\n",
       "      <td>05/23/2007</td>\n",
       "      <td>03/31/2018</td>\n",
       "    </tr>\n",
       "    <tr>\n",
       "      <th>2</th>\n",
       "      <td>MARKET VALUE</td>\n",
       "      <td>NaN</td>\n",
       "      <td>NaN</td>\n",
       "      <td>Market Value</td>\n",
       "      <td>-1.64%</td>\n",
       "      <td>-1.64%</td>\n",
       "      <td>1.17%</td>\n",
       "      <td>1.07%</td>\n",
       "      <td>1.78%</td>\n",
       "      <td>3.60%</td>\n",
       "      <td>4.04%</td>\n",
       "      <td>05/23/2007</td>\n",
       "      <td>03/31/2018</td>\n",
       "    </tr>\n",
       "    <tr>\n",
       "      <th>3</th>\n",
       "      <td>Bloomberg Barclays U.S. Aggregate Bond Index</td>\n",
       "      <td>NaN</td>\n",
       "      <td>NaN</td>\n",
       "      <td>Primary Benchmark</td>\n",
       "      <td>-1.46%</td>\n",
       "      <td>-1.46%</td>\n",
       "      <td>1.20%</td>\n",
       "      <td>1.20%</td>\n",
       "      <td>1.82%</td>\n",
       "      <td>3.63%</td>\n",
       "      <td>4.06%</td>\n",
       "      <td>05/23/2007</td>\n",
       "      <td>03/31/2018</td>\n",
       "    </tr>\n",
       "    <tr>\n",
       "      <th>4</th>\n",
       "      <td>SPDR Portfolio Developed World ex-US ETF</td>\n",
       "      <td>SPDW</td>\n",
       "      <td>0.04%</td>\n",
       "      <td>NAV</td>\n",
       "      <td>-1.71%</td>\n",
       "      <td>-1.71%</td>\n",
       "      <td>14.90%</td>\n",
       "      <td>6.10%</td>\n",
       "      <td>6.46%</td>\n",
       "      <td>3.04%</td>\n",
       "      <td>2.16%</td>\n",
       "      <td>04/20/2007</td>\n",
       "      <td>03/31/2018</td>\n",
       "    </tr>\n",
       "  </tbody>\n",
       "</table>\n",
       "</div>"
      ],
      "text/plain": [
       "                                           NAME TICKER GROSS EXPENSE RATIO  \\\n",
       "0                                 Low Cost Core    NaN                 NaN   \n",
       "1             SPDR Portfolio Aggregate Bond ETF   SPAB               0.04%   \n",
       "2                                  MARKET VALUE    NaN                 NaN   \n",
       "3  Bloomberg Barclays U.S. Aggregate Bond Index    NaN                 NaN   \n",
       "4      SPDR Portfolio Developed World ex-US ETF   SPDW               0.04%   \n",
       "\n",
       "         PERFORMANCE CUMULATIVE QTD CUMULATIVE YTD ANNUALIZED 1YR  \\\n",
       "0                NaN            NaN            NaN            NaN   \n",
       "1                NAV         -1.52%         -1.52%          1.13%   \n",
       "2       Market Value         -1.64%         -1.64%          1.17%   \n",
       "3  Primary Benchmark         -1.46%         -1.46%          1.20%   \n",
       "4                NAV         -1.71%         -1.71%         14.90%   \n",
       "\n",
       "  ANNUALIZED 3YR ANNUALIZED 5YR ANNUALIZED 10YR SINCE INCEPTION  \\\n",
       "0            NaN            NaN             NaN             NaN   \n",
       "1          1.12%          1.76%           3.60%           4.04%   \n",
       "2          1.07%          1.78%           3.60%           4.04%   \n",
       "3          1.20%          1.82%           3.63%           4.06%   \n",
       "4          6.10%          6.46%           3.04%           2.16%   \n",
       "\n",
       "  INCEPTION DATE  PERF AS OF  \n",
       "0            NaN         NaN  \n",
       "1     05/23/2007  03/31/2018  \n",
       "2     05/23/2007  03/31/2018  \n",
       "3     05/23/2007  03/31/2018  \n",
       "4     04/20/2007  03/31/2018  "
      ]
     },
     "execution_count": 13,
     "metadata": {},
     "output_type": "execute_result"
    }
   ],
   "source": [
    "spdr.head()"
   ]
  },
  {
   "cell_type": "code",
   "execution_count": 11,
   "metadata": {},
   "outputs": [],
   "source": [
    "spdr['TICKER'].unique()\n",
    "spdr_tickers = spdr['TICKER'].unique()\n",
    "spdr_tickers = pd.Series(spdr_tickers[1:])"
   ]
  },
  {
   "cell_type": "code",
   "execution_count": 12,
   "metadata": {},
   "outputs": [
    {
     "data": {
      "text/plain": [
       "0    SPAB\n",
       "1    SPDW\n",
       "2    SPEM\n",
       "3    SPIB\n",
       "4    SPLG\n",
       "dtype: object"
      ]
     },
     "metadata": {},
     "output_type": "display_data"
    },
    {
     "data": {
      "text/plain": [
       "134"
      ]
     },
     "metadata": {},
     "output_type": "display_data"
    },
    {
     "data": {
      "text/plain": [
       "str"
      ]
     },
     "metadata": {},
     "output_type": "display_data"
    }
   ],
   "source": [
    "display(spdr_tickers.head())\n",
    "display(spdr_tickers.count())\n",
    "display(type(spdr_tickers[1]))"
   ]
  },
  {
   "cell_type": "code",
   "execution_count": 18,
   "metadata": {},
   "outputs": [],
   "source": [
    "ret_nav = Template('https://us.spdrs.com/site-content/xls/${etf}_HistoricalNav.xls?fund={$etf}&docname=Most+Recent+NAV+%2F+NAV+History&onyx_code1=&onyx_code2=')"
   ]
  },
  {
   "cell_type": "code",
   "execution_count": 26,
   "metadata": {},
   "outputs": [],
   "source": [
    "ul = requests.get(ret_nav.substitute(etf='SPAB'))"
   ]
  },
  {
   "cell_type": "code",
   "execution_count": 34,
   "metadata": {},
   "outputs": [],
   "source": [
    "filename = Template('${etf}.xls')\n",
    "p = filename.substitute(etf='SPAB')"
   ]
  },
  {
   "cell_type": "code",
   "execution_count": 35,
   "metadata": {},
   "outputs": [],
   "source": [
    "with open(p, 'wb') as f:\n",
    "    f.write(ul.content)"
   ]
  },
  {
   "cell_type": "code",
   "execution_count": 38,
   "metadata": {},
   "outputs": [],
   "source": [
    "for name in spdr_tickers:\n",
    "    ul = requests.get(ret.substitute(etf=name))\n",
    "    p = filename.substitute(etf=name)\n",
    "    with open(p,'wb') as f:\n",
    "        f.write(ul.content)"
   ]
  },
  {
   "cell_type": "code",
   "execution_count": 7,
   "metadata": {},
   "outputs": [],
   "source": [
    "ret_holdings = Template('https://us.spdrs.com/site-content/xls/${etf}_All_Holdings.xls?fund=$etf&docname=All+Holdings&onyx_code1=&onyx_code2=')"
   ]
  },
  {
   "cell_type": "code",
   "execution_count": 8,
   "metadata": {},
   "outputs": [
    {
     "data": {
      "text/plain": [
       "'https://us.spdrs.com/site-content/xls/SPAB_All_Holdings.xls?fund=SPAB&docname=All+Holdings&onyx_code1=&onyx_code2='"
      ]
     },
     "execution_count": 8,
     "metadata": {},
     "output_type": "execute_result"
    }
   ],
   "source": [
    "ret_holdings.substitute(etf='SPAB')"
   ]
  },
  {
   "cell_type": "code",
   "execution_count": 14,
   "metadata": {},
   "outputs": [],
   "source": [
    "filename = Template('etf_navs\\${etf}_holdings.xls')"
   ]
  },
  {
   "cell_type": "code",
   "execution_count": 15,
   "metadata": {},
   "outputs": [],
   "source": [
    "for name in spdr_tickers:\n",
    "    ul = requests.get(ret_holdings.substitute(etf=name))\n",
    "    p = filename.substitute(etf=name)\n",
    "    with open(p,'wb') as f:\n",
    "        f.write(ul.content)"
   ]
  },
  {
   "cell_type": "code",
   "execution_count": null,
   "metadata": {},
   "outputs": [],
   "source": []
  }
 ],
 "metadata": {
  "kernelspec": {
   "display_name": "Python 3",
   "language": "python",
   "name": "python3"
  },
  "language_info": {
   "codemirror_mode": {
    "name": "ipython",
    "version": 3
   },
   "file_extension": ".py",
   "mimetype": "text/x-python",
   "name": "python",
   "nbconvert_exporter": "python",
   "pygments_lexer": "ipython3",
   "version": "3.6.3"
  }
 },
 "nbformat": 4,
 "nbformat_minor": 1
}
