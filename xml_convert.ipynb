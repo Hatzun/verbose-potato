{
 "cells": [
  {
   "cell_type": "code",
   "execution_count": 10,
   "metadata": {},
   "outputs": [],
   "source": [
    "import pandas as pd\n",
    "from lxml import etree\n",
    "import os, shutil"
   ]
  },
  {
   "cell_type": "code",
   "execution_count": 4,
   "metadata": {},
   "outputs": [],
   "source": [
    "data = \"C:/Users/Tim C/Documents/School/Hedge Fund Strats/Final/ishares/ishares-adaptive-currency-hedged-msci-eafe-etf.xls\""
   ]
  },
  {
   "cell_type": "code",
   "execution_count": 7,
   "metadata": {},
   "outputs": [],
   "source": [
    "xmls = open(\"C:/Users/Tim C/Documents/School/Hedge Fund Strats/Final/ishares/ishares-adaptive-currency-hedged-msci-eafe-etf.xls\")"
   ]
  },
  {
   "cell_type": "code",
   "execution_count": 9,
   "metadata": {},
   "outputs": [
    {
     "ename": "XMLSyntaxError",
     "evalue": "Document is empty, line 1, column 1 (ishares-adaptive-currency-hedged-msci-eafe-etf.xls, line 1)",
     "output_type": "error",
     "traceback": [
      "Traceback \u001b[1;36m(most recent call last)\u001b[0m:\n",
      "  File \u001b[0;32m\"C:\\Python\\lib\\site-packages\\IPython\\core\\interactiveshell.py\"\u001b[0m, line \u001b[0;32m2910\u001b[0m, in \u001b[0;35mrun_code\u001b[0m\n    exec(code_obj, self.user_global_ns, self.user_ns)\n",
      "  File \u001b[0;32m\"<ipython-input-9-cc9ee8a3dba3>\"\u001b[0m, line \u001b[0;32m1\u001b[0m, in \u001b[0;35m<module>\u001b[0m\n    xml_tree = etree.parse(xmls)\n",
      "  File \u001b[0;32m\"src\\lxml\\etree.pyx\"\u001b[0m, line \u001b[0;32m3426\u001b[0m, in \u001b[0;35mlxml.etree.parse\u001b[0m\n",
      "  File \u001b[0;32m\"src\\lxml\\parser.pxi\"\u001b[0m, line \u001b[0;32m1860\u001b[0m, in \u001b[0;35mlxml.etree._parseDocument\u001b[0m\n",
      "  File \u001b[0;32m\"src\\lxml\\parser.pxi\"\u001b[0m, line \u001b[0;32m1880\u001b[0m, in \u001b[0;35mlxml.etree._parseFilelikeDocument\u001b[0m\n",
      "  File \u001b[0;32m\"src\\lxml\\parser.pxi\"\u001b[0m, line \u001b[0;32m1775\u001b[0m, in \u001b[0;35mlxml.etree._parseDocFromFilelike\u001b[0m\n",
      "  File \u001b[0;32m\"src\\lxml\\parser.pxi\"\u001b[0m, line \u001b[0;32m1186\u001b[0m, in \u001b[0;35mlxml.etree._BaseParser._parseDocFromFilelike\u001b[0m\n",
      "  File \u001b[0;32m\"src\\lxml\\parser.pxi\"\u001b[0m, line \u001b[0;32m600\u001b[0m, in \u001b[0;35mlxml.etree._ParserContext._handleParseResultDoc\u001b[0m\n",
      "  File \u001b[0;32m\"src\\lxml\\parser.pxi\"\u001b[0m, line \u001b[0;32m710\u001b[0m, in \u001b[0;35mlxml.etree._handleParseResult\u001b[0m\n",
      "\u001b[1;36m  File \u001b[1;32m\"src\\lxml\\parser.pxi\"\u001b[1;36m, line \u001b[1;32m639\u001b[1;36m, in \u001b[1;35mlxml.etree._raiseParseError\u001b[1;36m\u001b[0m\n",
      "\u001b[1;36m  File \u001b[1;32m\"C:\\Users\\Tim C\\Documents\\School\\Hedge Fund Strats\\Final\\ishares\\ishares-adaptive-currency-hedged-msci-eafe-etf.xls\"\u001b[1;36m, line \u001b[1;32m1\u001b[0m\n\u001b[1;33m    <?xml version=\"1.0\"?>\u001b[0m\n\u001b[1;37m                         ^\u001b[0m\n\u001b[1;31mXMLSyntaxError\u001b[0m\u001b[1;31m:\u001b[0m Document is empty, line 1, column 1\n"
     ]
    }
   ],
   "source": [
    "xml_tree = etree.parse(xmls)"
   ]
  },
  {
   "cell_type": "code",
   "execution_count": null,
   "metadata": {},
   "outputs": [],
   "source": []
  }
 ],
 "metadata": {
  "kernelspec": {
   "display_name": "Python 3",
   "language": "python",
   "name": "python3"
  },
  "language_info": {
   "codemirror_mode": {
    "name": "ipython",
    "version": 3
   },
   "file_extension": ".py",
   "mimetype": "text/x-python",
   "name": "python",
   "nbconvert_exporter": "python",
   "pygments_lexer": "ipython3",
   "version": "3.6.3"
  }
 },
 "nbformat": 4,
 "nbformat_minor": 1
}
